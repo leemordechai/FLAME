{
 "cells": [
  {
   "cell_type": "code",
   "execution_count": 1,
   "id": "68ee1722",
   "metadata": {},
   "outputs": [],
   "source": [
    "# this file is supposed to get the coordinates from PAS to a series of finds automatically\n",
    "import pandas as pd\n",
    "import numpy as np\n",
    "import matplotlib.pyplot as plt\n",
    "from pylab import savefig\n",
    "\n",
    "%matplotlib inline\n",
    "\n",
    "import pandas as pd\n",
    "import datetime as dt\n",
    "import io\n",
    "import ast\n",
    "\n",
    "import urllib3\n",
    "\n",
    "from bs4 import BeautifulSoup\n",
    "import requests\n",
    "from urllib.request import urlopen, Request\n",
    "import re\n",
    "import pandas as pd\n",
    "import datetime\n",
    "import time"
   ]
  },
  {
   "cell_type": "code",
   "execution_count": 2,
   "id": "ff4de7f4",
   "metadata": {},
   "outputs": [],
   "source": [
    "from selenium import webdriver\n",
    "from webdriver_manager.chrome import ChromeDriverManager\n",
    "#driver = webdriver.Chrome(ChromeDriverManager().install())\n",
    "#driver.get('https://finds.org.uk/database/hoards/record/id/2')"
   ]
  },
  {
   "cell_type": "code",
   "execution_count": 40,
   "id": "9d3a9d32",
   "metadata": {},
   "outputs": [],
   "source": [
    "#driver\n",
    "coordinates = pd.DataFrame(columns=['hoard', 'lat', 'long'])\n",
    "ids_to_check = [2049, 2, 3, 4, 2053, 2054, 6, 2057, 10, 12, 2061, 14, 15, 16, 2062, 19, 2069, 22, 24, 25, 2073, 27, 30, 2081, 2082, 2084, 38, 39, 40, 2088, 43, 2092, 2093, 2094, 49, 50, 53, 2104, 56, 60, 2108, 2109, 63, 2112, 65, 66, 68, 2117, 75, 2123, 77, 78, 2129, 82, 2131, 84, 2130, 2134, 87, 2136, 89, 2135, 91, 2139, 2138, 94, 2142, 2144, 2145, 2146, 97, 2148, 2149, 95, 98, 2153, 2154, 2155, 2156, 2157, 109, 108, 2160, 113, 114, 2163, 115, 117, 2166, 2168, 120, 2170, 2171, 2172, 125, 2174, 2175, 128, 129, 2176, 2177, 2180, 130, 2182, 133, 2184, 2185, 2186, 2178, 140, 141, 142, 2189, 2190, 2194, 2195, 2201, 154, 155, 2205, 2207, 2209, 2210, 162, 165, 2214, 166, 2216, 168, 170, 171, 167, 173, 2223, 2224, 177, 180, 2230, 2231, 2235, 191, 2239, 193, 2242, 2243, 2244, 197, 198, 203, 2252, 205, 206, 207, 208, 2257, 2258, 2259, 214, 215, 2265, 218, 2266, 220, 221, 222, 223, 224, 2270, 2272, 2273, 228, 2274, 2280, 240, 241, 2292, 2296, 249, 250, 2297, 2305, 259, 260, 261, 2309, 264, 2320, 273, 2324, 277, 2326, 2327, 2328, 2330, 2331, 285, 2333, 2337, 291, 292, 872, 294, 2343, 298, 2346, 2349, 302, 2351, 304, 2353, 2359, 312, 2360, 314, 315, 316, 2362, 2363, 2364, 2365, 2366, 2367, 2370, 324, 2371, 2372, 321, 328, 2380, 2382, 2387, 2401, 354, 2402, 2403, 2405, 358, 2406, 360, 2410, 2411, 2412, 369, 370, 2418, 2420, 373, 382, 383, 2431, 2435, 391, 392, 393, 394, 2446, 2452, 404, 2454, 411, 414, 416, 418, 2476, 435, 441, 442, 443, 2491, 2492, 2493, 2494, 2490, 446, 2501, 459, 92, 465, 469, 2518, 2520, 2522, 2524, 478, 2526, 2528, 481, 482, 484, 485, 2534, 2536, 2537, 491, 492, 2540, 2539, 495, 2543, 497, 498, 2546, 504, 2553, 2555, 2558, 2559, 514, 515, 2562, 521, 522, 527, 541, 542, 2591, 544, 548, 554, 555, 557, 563, 565, 2619, 573, 577, 578, 579, 580, 584, 591, 592, 601, 602, 603, 604, 605, 608, 2662, 617, 2665, 622, 623, 624, 2672, 2673, 2675, 628, 629, 627, 2679, 2677, 634, 636, 637, 638, 640, 643, 644, 646, 648, 653, 655, 656, 657, 660, 661, 662, 663, 664, 667, 668, 675, 690, 700, 701, 702, 707, 708, 710, 717, 718, 720, 723, 724, 729, 730, 731, 732, 735, 738, 740, 742, 749, 755, 775, 779, 790, 2838, 792, 794, 800, 803, 806, 809, 814, 820, 821, 823, 829, 831, 836, 837, 840, 841, 842, 843, 844, 845, 846, 847, 2893, 2898, 2899, 855, 856, 2904, 2905, 2906, 862, 863, 864, 865, 2911, 869, 870, 2917, 2919, 873, 2921, 874, 876, 877, 878, 2925, 2926, 881, 882, 2928, 988, 2933, 2931, 2935, 2934, 889, 890, 887, 2940, 2941, 894, 2943, 899, 2947, 2948, 2950, 3029, 908, 2958, 2959, 2961, 915, 2963, 2965, 918, 919, 920, 2967, 2968, 2969, 2970, 2974, 929, 2978, 2980, 2981, 2982, 936, 937, 2985, 939, 942, 943, 2991, 945, 946, 2993, 2995, 949, 2999, 952, 953, 3000, 3001, 3003, 3005, 959, 960, 961, 3007, 3009, 965, 3013, 969, 971, 3022, 976, 3024, 978, 979, 980, 981, 982, 983, 984, 985, 986, 987, 3035, 989, 990, 3037, 3038, 3039, 3040, 995, 996, 3041, 994, 992, 3049, 1007, 1008, 1009, 1010, 1011, 3058, 1013, 3062, 1014, 1016, 1017, 1018, 1019, 1022, 1023, 3072, 3073, 3074, 1027, 1028, 3076, 1030, 3077, 3080, 1033, 1034, 3081, 1036, 1037, 3083, 1039, 1041, 1042, 1043, 1050, 1051, 1054, 1057, 1058, 1059, 1060, 1061, 3110, 3115, 1068, 3119, 1073, 1074, 3122, 3121, 3125, 3123, 1081, 3130, 3131, 1091, 1093, 3144, 3156, 1112, 1114, 3164, 3166, 1137, 3188, 3189, 1149, 1150, 3198, 3199, 3197, 1154, 3203, 3204, 3202, 3206, 1155, 1160, 1162, 3211, 1166, 1167, 3216, 3215, 3218, 3219, 1172, 3220, 3221, 3223, 3222, 3225, 1175, 3227, 1180, 3228, 1179, 1183, 1184, 3233, 3234, 3236, 1189, 3237, 1193, 3241, 3243, 1197, 3248, 1202, 3251, 1204, 1203, 1207, 3255, 1212, 3260, 1214, 1215, 1218, 1222, 1231, 1233, 1235, 1239, 1242, 1243, 1244, 1253, 1255, 1260, 1265, 1271, 1273, 1274, 1277, 1278, 1279, 1280, 1281, 1282, 1283, 1284, 1285, 1286, 1287, 1289, 1291, 1295, 1298, 1304, 1305, 1315, 1328, 1329, 1330, 1331, 1332, 1333, 1334, 1335, 1336, 1337, 1338, 1339, 1340, 1341, 1342, 1343, 1345, 1346, 1347, 1348, 1349, 1350, 1351, 1352, 1353, 1354, 1355, 1360, 1361, 1365, 1367, 1375, 1379, 1383, 1388, 1390, 1392, 1404, 1405, 1406, 1407, 1417, 1419, 1422, 1423, 1431, 1436, 1437, 1438, 1439, 1441, 1451, 1452, 1458, 1460, 1461, 1464, 1468, 1469, 1470, 1471, 1481, 1483, 1484, 1485, 1486, 1488, 1495, 1496, 1498, 1499, 1502, 1503, 1506, 1513, 1519, 1527, 1531, 1532, 1535, 1536, 1539, 1541, 1547, 1548, 1553, 1554, 1562, 1563, 1568, 1569, 1573, 1599, 1601, 1602, 1603, 1604, 1606, 1609, 1615, 1616, 1617, 1618, 1620, 1621, 1622, 1624, 1625, 1627, 1633, 1635, 1636, 1637, 1638, 1641, 1648, 1649, 1650, 1652, 1659, 1662, 3078, 1664, 1668, 1675, 1676, 1687, 1688, 1690, 1695, 1700, 1706, 1707, 1711, 1718, 1719, 1722, 1723, 1725, 1728, 1730, 1736, 1738, 1740, 1741, 1753, 1755, 1756, 1759, 1760, 1761, 1766, 1768, 1769, 1773, 1774, 1779, 1781, 1782, 1784, 1785, 1787, 1788, 1792, 1793, 1798, 1800, 1804, 1806, 1808, 1809, 1812, 1813, 1814, 1815, 1817, 1818, 1819, 1821, 1822, 1829, 1832, 1835, 3214, 1839, 1841, 1846, 1847, 1849, 1851, 1852, 1853, 1854, 1856, 1860, 1872, 1876, 1888, 1890, 1896, 1897, 1901, 1908, 1911, 1912, 1913, 1914, 1918, 1922, 1925, 1926, 1927, 1928, 1931, 1933, 1937, 1943, 1948, 1955, 1957, 1961, 1962, 1963, 1964, 1974, 1975, 1976, 1978, 1981, 1985, 1986, 1988, 1989, 1992, 2001, 2024, 2032, 2037, 2041, 2042, 2043]"
   ]
  },
  {
   "cell_type": "code",
   "execution_count": 11,
   "id": "e919f55f",
   "metadata": {},
   "outputs": [],
   "source": [
    "def sele():\n",
    "    driver = webdriver.Chrome(ChromeDriverManager().install())\n",
    "    url = driver.command_executor._url       #\"http://127.0.0.1:60622/hub\"\n",
    "    session_id = driver.session_id            #'4e167f26-dc1d-4f51-a207-f761eaf73c31'\n",
    "    driver = webdriver.Remote(command_executor=url,desired_capabilities={})\n",
    "    driver.close()   # this prevents the dummy browser\n",
    "    driver.session_id = session_id\n",
    "    driver.get('https://finds.org.uk/users')\n",
    "    \n",
    "    \n",
    "    username = driver.find_element_by_id(\"username\")\n",
    "    password = driver.find_element_by_id(\"password\")\n",
    "\n",
    "    username.send_keys(\"USERNAME\")\n",
    "    password.send_keys(\"PASSWORD\")\n",
    "    driver.find_element_by_name(\"submit\").click()\n",
    "    return driver"
   ]
  },
  {
   "cell_type": "code",
   "execution_count": 76,
   "id": "cae18438",
   "metadata": {},
   "outputs": [
    {
     "name": "stderr",
     "output_type": "stream",
     "text": [
      "\n",
      "\n",
      "====== WebDriver manager ======\n",
      "Current google-chrome version is 90.0.4430\n",
      "Get LATEST driver version for 90.0.4430\n",
      "Driver [C:\\Users\\leemo\\.wdm\\drivers\\chromedriver\\win32\\90.0.4430.24\\chromedriver.exe] found in cache\n"
     ]
    }
   ],
   "source": [
    "driver = sele()"
   ]
  },
  {
   "cell_type": "code",
   "execution_count": 77,
   "id": "8d61562d",
   "metadata": {},
   "outputs": [],
   "source": [
    "for i in temp_adds: #ids_to_check[800:]:\n",
    "    driver.get('https://finds.org.uk/database/hoards/record/id/' + str(i))\n",
    "    blurb = driver.find_element_by_xpath('/html/body').text\n",
    "    try:\n",
    "        lat = blurb[blurb.find('Latitude')+10:blurb.find('Latitude')+18] \n",
    "        long = blurb[blurb.find('Longitude')+10:blurb.find('Longitude')+18] \n",
    "        #print(lat, long)\n",
    "    except:\n",
    "        print('failed at ' + str(i))\n",
    "    coordinates = coordinates.append({'hoard':i, 'lat':lat, 'long': long}, ignore_index=True)"
   ]
  },
  {
   "cell_type": "code",
   "execution_count": 86,
   "id": "e49d6ab7",
   "metadata": {},
   "outputs": [
    {
     "data": {
      "text/html": [
       "<div>\n",
       "<style scoped>\n",
       "    .dataframe tbody tr th:only-of-type {\n",
       "        vertical-align: middle;\n",
       "    }\n",
       "\n",
       "    .dataframe tbody tr th {\n",
       "        vertical-align: top;\n",
       "    }\n",
       "\n",
       "    .dataframe thead th {\n",
       "        text-align: right;\n",
       "    }\n",
       "</style>\n",
       "<table border=\"1\" class=\"dataframe\">\n",
       "  <thead>\n",
       "    <tr style=\"text-align: right;\">\n",
       "      <th></th>\n",
       "      <th>hoard</th>\n",
       "      <th>lat</th>\n",
       "      <th>long</th>\n",
       "    </tr>\n",
       "  </thead>\n",
       "  <tbody>\n",
       "    <tr>\n",
       "      <th>333</th>\n",
       "      <td>794</td>\n",
       "      <td>51.15771</td>\n",
       "      <td>-1.3187</td>\n",
       "    </tr>\n",
       "  </tbody>\n",
       "</table>\n",
       "</div>"
      ],
      "text/plain": [
       "    hoard       lat      long\n",
       "333   794  51.15771   -1.3187"
      ]
     },
     "execution_count": 86,
     "metadata": {},
     "output_type": "execute_result"
    }
   ],
   "source": [
    "coordinates['hoard'].value_counts() # should be 934 entries\n",
    "coordinates[coordinates['hoard'] == 794]"
   ]
  },
  {
   "cell_type": "code",
   "execution_count": 75,
   "id": "39f40ea3",
   "metadata": {},
   "outputs": [
    {
     "name": "stdout",
     "output_type": "stream",
     "text": [
      "1\n"
     ]
    },
    {
     "data": {
      "text/plain": [
       "{1535}"
      ]
     },
     "execution_count": 75,
     "metadata": {},
     "output_type": "execute_result"
    }
   ],
   "source": [
    "# was influential\n",
    "temp_adds = set(ids_to_check) - set(coordinates['hoard'])\n",
    "print(len(temp_adds))\n",
    "temp_adds"
   ]
  },
  {
   "cell_type": "code",
   "execution_count": 1,
   "id": "f82f1b34",
   "metadata": {},
   "outputs": [
    {
     "ename": "NameError",
     "evalue": "name 'coordinates' is not defined",
     "output_type": "error",
     "traceback": [
      "\u001b[1;31m---------------------------------------------------------------------------\u001b[0m",
      "\u001b[1;31mNameError\u001b[0m                                 Traceback (most recent call last)",
      "\u001b[1;32m<ipython-input-1-c53112e01d19>\u001b[0m in \u001b[0;36m<module>\u001b[1;34m\u001b[0m\n\u001b[1;32m----> 1\u001b[1;33m \u001b[0mcoordinates\u001b[0m\u001b[1;33m.\u001b[0m\u001b[0mto_csv\u001b[0m\u001b[1;33m(\u001b[0m\u001b[1;34m'PAS-coordinates.csv'\u001b[0m\u001b[1;33m)\u001b[0m \u001b[1;31m# this has been updated by me with additional details for places that were not identified correctly by the automatic algorithm\u001b[0m\u001b[1;33m\u001b[0m\u001b[1;33m\u001b[0m\u001b[0m\n\u001b[0m",
      "\u001b[1;31mNameError\u001b[0m: name 'coordinates' is not defined"
     ]
    }
   ],
   "source": [
    "coordinates.to_csv('PAS-coordinates.csv') # this has been updated by me with additional details for places that were not identified correctly by the automatic algorithm"
   ]
  },
  {
   "cell_type": "code",
   "execution_count": null,
   "id": "203462af",
   "metadata": {},
   "outputs": [],
   "source": []
  }
 ],
 "metadata": {
  "kernelspec": {
   "display_name": "Python 3",
   "language": "python",
   "name": "python3"
  },
  "language_info": {
   "codemirror_mode": {
    "name": "ipython",
    "version": 3
   },
   "file_extension": ".py",
   "mimetype": "text/x-python",
   "name": "python",
   "nbconvert_exporter": "python",
   "pygments_lexer": "ipython3",
   "version": "3.9.4"
  }
 },
 "nbformat": 4,
 "nbformat_minor": 5
}
